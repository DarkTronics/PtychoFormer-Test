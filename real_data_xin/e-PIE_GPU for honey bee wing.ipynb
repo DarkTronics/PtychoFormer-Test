{
 "cells": [
  {
   "cell_type": "markdown",
   "metadata": {
    "id": "YwCC_VARWH8R"
   },
   "source": [
    "###Mount Drive###"
   ]
  },
  {
   "cell_type": "code",
   "execution_count": 1,
   "metadata": {
    "colab": {
     "base_uri": "https://localhost:8080/"
    },
    "executionInfo": {
     "elapsed": 18639,
     "status": "ok",
     "timestamp": 1742590740588,
     "user": {
      "displayName": "Xinwei Guo",
      "userId": "07188315379685064095"
     },
     "user_tz": 240
    },
    "id": "mdO3s7BRHOCf",
    "outputId": "37362f2a-7890-4131-ae93-60778c7f8253"
   },
   "outputs": [
    {
     "ename": "ModuleNotFoundError",
     "evalue": "No module named 'google.colab'",
     "output_type": "error",
     "traceback": [
      "\u001b[0;31m---------------------------------------------------------------------------\u001b[0m",
      "\u001b[0;31mModuleNotFoundError\u001b[0m                       Traceback (most recent call last)",
      "Cell \u001b[0;32mIn[1], line 1\u001b[0m\n\u001b[0;32m----> 1\u001b[0m \u001b[38;5;28;01mfrom\u001b[39;00m\u001b[38;5;250m \u001b[39m\u001b[38;5;21;01mgoogle\u001b[39;00m\u001b[38;5;21;01m.\u001b[39;00m\u001b[38;5;21;01mcolab\u001b[39;00m\u001b[38;5;250m \u001b[39m\u001b[38;5;28;01mimport\u001b[39;00m drive\n\u001b[1;32m      2\u001b[0m drive\u001b[38;5;241m.\u001b[39mmount(\u001b[38;5;124m'\u001b[39m\u001b[38;5;124m/content/drive\u001b[39m\u001b[38;5;124m'\u001b[39m)\n",
      "\u001b[0;31mModuleNotFoundError\u001b[0m: No module named 'google.colab'"
     ]
    }
   ],
   "source": [
    "from google.colab import drive\n",
    "drive.mount('/content/drive')"
   ]
  },
  {
   "cell_type": "code",
   "execution_count": 2,
   "metadata": {
    "colab": {
     "base_uri": "https://localhost:8080/"
    },
    "executionInfo": {
     "elapsed": 17,
     "status": "ok",
     "timestamp": 1742590756004,
     "user": {
      "displayName": "Xinwei Guo",
      "userId": "07188315379685064095"
     },
     "user_tz": 240
    },
    "id": "IOCnyP9L_Jah",
    "outputId": "15003aef-b3aa-4333-9a07-029b35952f6c"
   },
   "outputs": [
    {
     "name": "stdout",
     "output_type": "stream",
     "text": [
      "[Errno 2] No such file or directory: '/content/drive/MyDrive/PIE/02/'\n",
      "/content\n"
     ]
    }
   ],
   "source": [
    "cd /content/drive/MyDrive/PIE/02/"
   ]
  },
  {
   "cell_type": "markdown",
   "metadata": {
    "id": "gufyk8l-KMd5"
   },
   "source": [
    "###Imports###"
   ]
  },
  {
   "cell_type": "code",
   "execution_count": 2,
   "metadata": {
    "id": "8aLJ-h0lVtbw"
   },
   "outputs": [
    {
     "ename": "ModuleNotFoundError",
     "evalue": "No module named 'cupy'",
     "output_type": "error",
     "traceback": [
      "\u001b[0;31m---------------------------------------------------------------------------\u001b[0m",
      "\u001b[0;31mModuleNotFoundError\u001b[0m                       Traceback (most recent call last)",
      "Cell \u001b[0;32mIn[2], line 3\u001b[0m\n\u001b[1;32m      1\u001b[0m \u001b[38;5;28;01mimport\u001b[39;00m\u001b[38;5;250m \u001b[39m\u001b[38;5;21;01msys\u001b[39;00m\n\u001b[1;32m      2\u001b[0m \u001b[38;5;28;01mimport\u001b[39;00m\u001b[38;5;250m \u001b[39m\u001b[38;5;21;01mtime\u001b[39;00m\n\u001b[0;32m----> 3\u001b[0m \u001b[38;5;28;01mimport\u001b[39;00m\u001b[38;5;250m \u001b[39m\u001b[38;5;21;01mcupy\u001b[39;00m\u001b[38;5;250m \u001b[39m\u001b[38;5;28;01mas\u001b[39;00m\u001b[38;5;250m \u001b[39m\u001b[38;5;21;01mcp\u001b[39;00m\n\u001b[1;32m      4\u001b[0m \u001b[38;5;28;01mimport\u001b[39;00m\u001b[38;5;250m \u001b[39m\u001b[38;5;21;01mnumpy\u001b[39;00m\u001b[38;5;250m \u001b[39m\u001b[38;5;28;01mas\u001b[39;00m\u001b[38;5;250m \u001b[39m\u001b[38;5;21;01mnp\u001b[39;00m\n\u001b[1;32m      5\u001b[0m \u001b[38;5;28;01mimport\u001b[39;00m\u001b[38;5;250m \u001b[39m\u001b[38;5;21;01mmatplotlib\u001b[39;00m\u001b[38;5;21;01m.\u001b[39;00m\u001b[38;5;21;01mpyplot\u001b[39;00m\u001b[38;5;250m \u001b[39m\u001b[38;5;28;01mas\u001b[39;00m\u001b[38;5;250m \u001b[39m\u001b[38;5;21;01mplt\u001b[39;00m\n",
      "\u001b[0;31mModuleNotFoundError\u001b[0m: No module named 'cupy'"
     ]
    }
   ],
   "source": [
    "import sys\n",
    "import time\n",
    "import cupy as cp\n",
    "import numpy as np\n",
    "import matplotlib.pyplot as plt\n",
    "import cupyx.scipy.fft as cufft\n",
    "import scipy.fft\n",
    "from scipy.fft import ifft2, fft2, ifftshift, fftshift\n",
    "scipy.fft.set_global_backend(cufft)"
   ]
  },
  {
   "cell_type": "markdown",
   "metadata": {
    "id": "GmP57396p5oS"
   },
   "source": [
    "###Load Diffraction Data###"
   ]
  },
  {
   "cell_type": "code",
   "execution_count": null,
   "metadata": {
    "id": "FpVJSWWxp-lr"
   },
   "outputs": [],
   "source": []
  },
  {
   "cell_type": "markdown",
   "metadata": {
    "id": "Eng8U3vA5pcw"
   },
   "source": [
    "###Load Position Data###"
   ]
  },
  {
   "cell_type": "code",
   "execution_count": null,
   "metadata": {
    "id": "PFx8H11z5pBE"
   },
   "outputs": [],
   "source": []
  },
  {
   "cell_type": "markdown",
   "metadata": {
    "id": "9QwReyAsKJgt"
   },
   "source": [
    "###Parameter###"
   ]
  },
  {
   "cell_type": "code",
   "execution_count": null,
   "metadata": {
    "id": "YDOEXzrlG_W0"
   },
   "outputs": [],
   "source": [
    "lam = 632.8 * (10**(-9))\n",
    "pixelnum = 1600\n",
    "pixelsize = 7.4* (10**(-6))\n",
    "stepnumber=10\n",
    "d = 142 * (10**(-3))\n",
    "k = 2 * np.pi / lam\n",
    "z1 = 27 * (10**(-3))\n",
    "z2 = 10 * (10**(-3))\n",
    "ratio=68"
   ]
  },
  {
   "cell_type": "markdown",
   "metadata": {
    "id": "kBvaYfMvKGxz"
   },
   "source": [
    "###Coordinate###"
   ]
  },
  {
   "cell_type": "markdown",
   "metadata": {
    "id": "7yI_2IDAGl9S"
   },
   "source": []
  },
  {
   "cell_type": "code",
   "execution_count": null,
   "metadata": {
    "id": "xgr64z8eJblO"
   },
   "outputs": [],
   "source": [
    "xx = cp.linspace(-pixelsize*pixelnum/2, pixelsize*pixelnum/2, pixelnum)\n",
    "yy = cp.linspace(-pixelsize*pixelnum/2, pixelsize*pixelnum/2, pixelnum)\n",
    "[XX, YY] = cp.meshgrid(xx, yy)\n",
    "fx = cp.linspace(-1/pixelsize/2, 1/pixelsize/2, pixelnum)\n",
    "fy = cp.linspace(-1/pixelsize/2, 1/pixelsize/2, pixelnum)\n",
    "[Fx, Fy] = cp.meshgrid(fx, fy)"
   ]
  },
  {
   "cell_type": "markdown",
   "metadata": {
    "id": "7K1scs6UKEai"
   },
   "source": [
    "###Hole###"
   ]
  },
  {
   "cell_type": "code",
   "execution_count": null,
   "metadata": {
    "id": "6I2K5jreW75n"
   },
   "outputs": [],
   "source": [
    "hole = (cp.sqrt(XX**2+YY**2)<(1.2*10**(-3))).astype(int)"
   ]
  },
  {
   "cell_type": "markdown",
   "metadata": {
    "id": "yOYlM03fKuSa"
   },
   "source": [
    "###Angular Spectrum###"
   ]
  },
  {
   "cell_type": "code",
   "execution_count": null,
   "metadata": {
    "id": "82X8sqipKaZJ"
   },
   "outputs": [],
   "source": [
    "H1 = cp.exp(1j*k*d*cp.sqrt(1-(lam*Fx)**2-(lam*Fy)**2+0j))\n",
    "H2 = cp.exp((-1j*k*d*cp.sqrt(1-(lam*Fx)**2-(lam*Fy)**2+0j)).real)\n",
    "H3 = cp.exp(1j*k*z2*cp.sqrt(1-(lam*Fx)**2-(lam*Fy)**2+0j))"
   ]
  },
  {
   "cell_type": "markdown",
   "metadata": {
    "id": "Giws7Vo3fg8s"
   },
   "source": [
    "###Propogation and Reconstruction###"
   ]
  },
  {
   "cell_type": "code",
   "execution_count": null,
   "metadata": {
    "id": "Oyx8cb7RQH1G"
   },
   "outputs": [],
   "source": [
    "num_iteration = 100\n",
    "progress_bar = True\n",
    "Tx = cp.loadtxt('x.txt', unpack = True).T\n",
    "Ty = cp.loadtxt('y.txt', unpack = True).T"
   ]
  },
  {
   "cell_type": "code",
   "execution_count": null,
   "metadata": {
    "id": "RdNyFgT9fmp3"
   },
   "outputs": [],
   "source": [
    "hole = fftshift(ifft2(ifftshift(H3 * (fftshift(fft2(ifftshift(hole)))))))\n",
    "r = cp.sqrt(z1**2 + XX**2 + YY**2)\n",
    "Afield = hole * cp.exp(1j*k*r) * 0.1\n",
    "Assumption1 = cp.ones((6000,6000)).astype(cp.complex128)"
   ]
  },
  {
   "cell_type": "code",
   "execution_count": null,
   "metadata": {
    "colab": {
     "base_uri": "https://localhost:8080/",
     "height": 1000
    },
    "executionInfo": {
     "elapsed": 110092,
     "status": "error",
     "timestamp": 1742580007381,
     "user": {
      "displayName": "Mingyuan Zhang",
      "userId": "00051121331146022140"
     },
     "user_tz": 240
    },
    "id": "8BoeZfgm2p-p",
    "outputId": "ece1b0fc-3f82-4dd5-8067-b4c70332b226"
   },
   "outputs": [],
   "source": [
    "start_time = time.time()\n",
    "for i in range(num_iteration):\n",
    "  for n in range(7):\n",
    "    for m in range(stepnumber):\n",
    "      # Print progress\n",
    "      if(progress_bar == True):\n",
    "        sys.stdout.write(\"\\rIteration:\"+ str(i+1)+ \"  Progress:\"+ str((10*n+m+1)/0.7) + \"%\")\n",
    "        sys.stdout.flush()\n",
    "      # Get each diffraction image and process it\n",
    "      filename = str((n)*10+m+1)+\".PNG\";\n",
    "      diffraction_image = plt.imread(filename)\n",
    "      I = 255 * diffraction_image[1031-800:1031+800,1065-800:1065+800]\n",
    "      I= cp.array(I)\n",
    "      # Define positional boundary of each diffraction pattern\n",
    "      x1_assumption1 = 1601 - np.round((Tx[n*stepnumber+m]-Tx[0])/ratio)\n",
    "      x2_assumption1 = x1_assumption1 + pixelnum\n",
    "      y1_assumption1 = 2601 - np.round((Ty[n]-Ty[0])/ratio)\n",
    "      y2_assumption1 = y1_assumption1 + pixelnum\n",
    "\n",
    "      # Retrieve pixels of reconstructed image within the boundary\n",
    "      Tem2 = Assumption1[x1_assumption1:x2_assumption1 , y1_assumption1:y2_assumption1]\n",
    "\n",
    "          # Consider using Ptychography 4.0 Here / Using GPU\n",
    "      # Reconstruction Process/Calculation\n",
    "      assump2_step1 = ifftshift(H1 * fftshift(fft2(ifftshift(Afield * Tem2))))\n",
    "      Assumption2 = fftshift(ifft2(assump2_step1))\n",
    "      Renew = cp.sqrt(abs(I)) * cp.exp(1j * cp.angle(Assumption2))\n",
    "      Reconstruction = fftshift(ifft2(ifftshift(fftshift(fft2(ifftshift(Renew))) * cp.conj(H1))))\n",
    "      change = Reconstruction - Afield * Tem2\n",
    "      Tem2 = Tem2 + cp.conj(Afield) / (abs(Afield)**2 + 1) * abs(Afield) / abs(Afield).max() * change\n",
    "      temp=Tem2\n",
    "      Afield = Afield + cp.conj(temp) / (abs(temp)**2 + 0.1) * abs(temp) / abs(temp).max() * change\n",
    "\n",
    "      # Update pixels of within the boundary\n",
    "      Assumption1[x1_assumption1:x2_assumption1 , y1_assumption1:y2_assumption1] = Tem2\n",
    "\n",
    "  # Plot the reconstucted image per iteration\n",
    "\n",
    "    fig, (ax1,ax2,ax3) = plt.subplots(1,3)\n",
    "    plt.gcf().set_size_inches(13, 10)\n",
    "    plot_1 = ax1.imshow(abs(Assumption1[2000:2600,3000:3600]).get(), cmap='gray')\n",
    "    plot_2 = ax2.imshow(cp.angle(Assumption1[2000:2600,3000:3600]).get(), cmap='gray')\n",
    "    plot_3 = ax3.imshow(abs(Afield).get(), cmap='gray')\n",
    "    plt.show(block=False)\n",
    "end_time = time.time()"
   ]
  },
  {
   "cell_type": "markdown",
   "metadata": {
    "id": "0gq7SbihBeTe"
   },
   "source": [
    "###Final Reconstructed Image###"
   ]
  },
  {
   "cell_type": "code",
   "execution_count": null,
   "metadata": {
    "id": "4JkS-tReBdnI"
   },
   "outputs": [],
   "source": [
    "fig, (ax1,ax2,ax3) = plt.subplots(1,3)\n",
    "plt.gcf().set_size_inches(13, 10)\n",
    "plot_1 = ax1.imshow(abs(Assumption1[2200:3000,2800:3600]).get(), cmap='gray')\n",
    "plot_2 = ax2.imshow(cp.angle(Assumption1[2200:3000,2800:3600]).get(), cmap='gray')\n",
    "plot_3 = ax3.imshow(abs(Afield).get(), cmap='gray')\n",
    "plt.show(block=False)"
   ]
  },
  {
   "cell_type": "markdown",
   "metadata": {
    "id": "TC03FIOv6GYl"
   },
   "source": [
    "###Execution Time Comparision###\n",
    "The speed up will increase rapidly as the number of iteration increases"
   ]
  },
  {
   "cell_type": "code",
   "execution_count": null,
   "metadata": {
    "id": "88UJ24zR2xkR"
   },
   "outputs": [],
   "source": [
    "ePIE_GPU_time = end_time-start_time\n",
    "ePIE_time = 515.3737990856171  # got this from ePIE.ipynb\n",
    "print(\"e-PIE using GPU Execution Time: \"+ str(round(ePIE_GPU_time, 2)) +\"s\")\n",
    "print(\"e-PIE without GPU Execution Time: \"+ str(round(ePIE_time, 2)) +\"s\")\n",
    "speed_up = ePIE_time / ePIE_GPU_time\n",
    "print(\"GPU Speed Up: x\" + str(round(speed_up, 2)))"
   ]
  }
 ],
 "metadata": {
  "accelerator": "GPU",
  "colab": {
   "provenance": []
  },
  "gpuClass": "standard",
  "kernelspec": {
   "display_name": "Python 3",
   "name": "python3"
  },
  "language_info": {
   "codemirror_mode": {
    "name": "ipython",
    "version": 3
   },
   "file_extension": ".py",
   "mimetype": "text/x-python",
   "name": "python",
   "nbconvert_exporter": "python",
   "pygments_lexer": "ipython3",
   "version": "3.10.12"
  }
 },
 "nbformat": 4,
 "nbformat_minor": 0
}
