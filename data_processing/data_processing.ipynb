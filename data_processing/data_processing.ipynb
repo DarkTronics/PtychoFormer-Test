{
 "cells": [
  {
   "cell_type": "markdown",
   "metadata": {},
   "source": [
    "Download each source datasets (Flickr30k, Caltech101, Flower102) beforehand"
   ]
  },
  {
   "cell_type": "code",
   "execution_count": 1,
   "metadata": {},
   "outputs": [],
   "source": [
    "import sys\n",
    "import os\n",
    "\n",
    "parent_dir = os.path.abspath(os.path.join(os.getcwd(), os.pardir))\n",
    "sys.path.append(parent_dir)\n",
    "import data_processing.data_processing_util as util"
   ]
  },
  {
   "cell_type": "markdown",
   "metadata": {},
   "source": [
    "### Preprocess Flickr30k Dataset"
   ]
  },
  {
   "cell_type": "code",
   "execution_count": null,
   "metadata": {},
   "outputs": [],
   "source": [
    "# Preprocess Flickr30k Dataset \n",
    "dir = os.path.join(parent_dir, 'data_source', 'Flickr30k', 'flickr30k', 'Images')\n",
    "destination = os.path.join(parent_dir, 'data_processing')\n",
    "util.preprocess_flickr(dir, destination)\n",
    "\n",
    "# Create Transmission Functions from preprocessed Flickr30k images\n",
    "dir = os.path.join(parent_dir, 'data_processing', 'preprocess')\n",
    "util.create_flickr_transmission(dir)"
   ]
  },
  {
   "cell_type": "markdown",
   "metadata": {},
   "source": [
    "### Pre-Training Dataset"
   ]
  },
  {
   "cell_type": "markdown",
   "metadata": {},
   "source": [
    "Various grid scans using Flickr30k"
   ]
  },
  {
   "cell_type": "code",
   "execution_count": null,
   "metadata": {},
   "outputs": [],
   "source": [
    "dir = os.path.join(parent_dir, 'data_processing', 'preprocess')\n",
    "destination=os.path.join(parent_dir, 'dataset', 'pretrain')\n",
    "util.create_grid_flickr(dir, destination)"
   ]
  },
  {
   "cell_type": "markdown",
   "metadata": {},
   "source": [
    "### CNN Dataset"
   ]
  },
  {
   "cell_type": "markdown",
   "metadata": {},
   "source": [
    "Create Single diffraction data using Flickr30k"
   ]
  },
  {
   "cell_type": "code",
   "execution_count": null,
   "metadata": {},
   "outputs": [],
   "source": [
    "dir = os.path.join(parent_dir, 'data_processing', 'preprocess')\n",
    "destination=os.path.join(parent_dir, 'dataset', 'single')\n",
    "util.create_single_flickr(dir, destination)"
   ]
  },
  {
   "cell_type": "markdown",
   "metadata": {},
   "source": [
    "### Fine-Tuning Dataset"
   ]
  },
  {
   "cell_type": "markdown",
   "metadata": {},
   "source": [
    "Various Scan Patterns (5 to 8 diffraction patterns in circular scans, and 9 diffraction patterns in diamond, parallelogram, constant grid, and random scans)"
   ]
  },
  {
   "cell_type": "code",
   "execution_count": null,
   "metadata": {},
   "outputs": [],
   "source": [
    "dir = os.path.join(parent_dir, 'data_processing', 'preprocess')\n",
    "destination=os.path.join(parent_dir, 'dataset', 'scans')\n",
    "util.create_new_scans(dir, destination)"
   ]
  },
  {
   "cell_type": "markdown",
   "metadata": {},
   "source": [
    "Various Probe Functions (11 total, excluding Probe C)"
   ]
  },
  {
   "cell_type": "code",
   "execution_count": null,
   "metadata": {},
   "outputs": [],
   "source": [
    "dir = os.path.join(parent_dir, 'data_processing', 'preprocess')\n",
    "destination=os.path.join(parent_dir, 'dataset', 'probes')\n",
    "util.create_new_probes(dir, destination)"
   ]
  },
  {
   "cell_type": "markdown",
   "metadata": {},
   "source": [
    "### Test Dataset"
   ]
  },
  {
   "cell_type": "markdown",
   "metadata": {},
   "source": [
    "Constant Grid Scans using Caltech 101 "
   ]
  },
  {
   "cell_type": "code",
   "execution_count": null,
   "metadata": {},
   "outputs": [],
   "source": [
    "dir = os.path.join(parent_dir, 'data_source', 'Caltech101', '101_ObjectCategories')\n",
    "destination=os.path.join(parent_dir, 'dataset', 'caltech')\n",
    "util.create_flower_or_caltech_dataset(dir, destination, flower=False)"
   ]
  },
  {
   "cell_type": "markdown",
   "metadata": {},
   "source": [
    "Constant Grid Scans using Flower 102"
   ]
  },
  {
   "cell_type": "code",
   "execution_count": null,
   "metadata": {},
   "outputs": [],
   "source": [
    "dir = os.path.join(parent_dir, 'data_source', 'Flower102', 'jpg')\n",
    "destination=os.path.join(parent_dir, 'dataset', 'flower')\n",
    "util.create_flower_or_caltech_dataset(dir, destination, flower=True)"
   ]
  }
 ],
 "metadata": {
  "kernelspec": {
   "display_name": "base",
   "language": "python",
   "name": "python3"
  },
  "language_info": {
   "codemirror_mode": {
    "name": "ipython",
    "version": 3
   },
   "file_extension": ".py",
   "mimetype": "text/x-python",
   "name": "python",
   "nbconvert_exporter": "python",
   "pygments_lexer": "ipython3",
   "version": "3.11.5"
  }
 },
 "nbformat": 4,
 "nbformat_minor": 2
}
