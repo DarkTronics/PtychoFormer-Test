{
 "cells": [
  {
   "cell_type": "code",
   "execution_count": 6,
   "metadata": {},
   "outputs": [
    {
     "name": "stdout",
     "output_type": "stream",
     "text": [
      "--2024-10-21 17:01:14--  https://www.robots.ox.ac.uk/~vgg/data/flowers/102/102flowers.tgz\n",
      "Resolving www.robots.ox.ac.uk (www.robots.ox.ac.uk)... 129.67.94.2\n",
      "Connecting to www.robots.ox.ac.uk (www.robots.ox.ac.uk)|129.67.94.2|:443... connected.\n",
      "HTTP request sent, awaiting response... 301 Moved Permanently\n",
      "Location: https://thor.robots.ox.ac.uk/flowers/102/102flowers.tgz [following]\n",
      "--2024-10-21 17:01:14--  https://thor.robots.ox.ac.uk/flowers/102/102flowers.tgz\n",
      "Resolving thor.robots.ox.ac.uk (thor.robots.ox.ac.uk)... 129.67.95.98\n",
      "Connecting to thor.robots.ox.ac.uk (thor.robots.ox.ac.uk)|129.67.95.98|:443... connected.\n",
      "HTTP request sent, awaiting response... 200 OK\n",
      "Length: 344862509 (329M) [application/octet-stream]\n",
      "Saving to: ‘102flowers.tgz’\n",
      "\n",
      "102flowers.tgz      100%[===================>] 328.89M  3.31MB/s    in 63s     \n",
      "\n",
      "2024-10-21 17:02:18 (5.24 MB/s) - ‘102flowers.tgz’ saved [344862509/344862509]\n",
      "\n",
      "Downloaded Flower 102 dataset successfully.\n"
     ]
    }
   ],
   "source": [
    "import os\n",
    "import tarfile\n",
    "\n",
    "current_directory = os.getcwd()\n",
    "\n",
    "!wget \"https://www.robots.ox.ac.uk/~vgg/data/flowers/102/102flowers.tgz\"\n",
    "\n",
    "tar_path = os.path.join(current_directory, '102flowers.tgz')\n",
    "\n",
    "with tarfile.open(tar_path, 'r:gz') as tar:\n",
    "    tar.extractall(path=current_directory)\n",
    "\n",
    "os.remove(tar_path)\n",
    "\n",
    "!echo \"Downloaded Flower 102 dataset successfully.\"\n"
   ]
  }
 ],
 "metadata": {
  "kernelspec": {
   "display_name": "base",
   "language": "python",
   "name": "python3"
  },
  "language_info": {
   "codemirror_mode": {
    "name": "ipython",
    "version": 3
   },
   "file_extension": ".py",
   "mimetype": "text/x-python",
   "name": "python",
   "nbconvert_exporter": "python",
   "pygments_lexer": "ipython3",
   "version": "3.11.5"
  }
 },
 "nbformat": 4,
 "nbformat_minor": 2
}
